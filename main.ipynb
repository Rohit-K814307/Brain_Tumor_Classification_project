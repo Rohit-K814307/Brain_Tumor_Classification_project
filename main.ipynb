{
 "cells": [
  {
   "cell_type": "code",
   "execution_count": 13,
   "metadata": {},
   "outputs": [],
   "source": [
    "import pandas as pd\n",
    "import numpy as np\n",
    "import torch\n",
    "import torch.nn as nn\n",
    "import matplotlib.pyplot as plt\n",
    "from sklearn.preprocessing import *\n",
    "from sklearn import datasets\n",
    "from sklearn.preprocessing import StandardScaler\n",
    "from sklearn.model_selection import train_test_split\n",
    "from sklearn.decomposition import PCA"
   ]
  },
  {
   "cell_type": "markdown",
   "metadata": {},
   "source": [
    "Pipeline:\n",
    "\n",
    "0) data prep\n",
    "1) design model (input, output size, forward pass)\n",
    "2) construct loss + optimizer\n",
    "3) training loop:\n",
    "       - forward pass: compute prediction and loss\n",
    "       - backward pass: gradients\n",
    "      - update weights"
   ]
  },
  {
   "cell_type": "markdown",
   "metadata": {},
   "source": [
    "Data prep:"
   ]
  },
  {
   "cell_type": "code",
   "execution_count": 2,
   "metadata": {},
   "outputs": [],
   "source": [
    "data = pd.read_csv('data.csv')\n",
    "target = data['y']\n"
   ]
  },
  {
   "cell_type": "code",
   "execution_count": 3,
   "metadata": {},
   "outputs": [
    {
     "data": {
      "text/html": [
       "<div>\n",
       "<style scoped>\n",
       "    .dataframe tbody tr th:only-of-type {\n",
       "        vertical-align: middle;\n",
       "    }\n",
       "\n",
       "    .dataframe tbody tr th {\n",
       "        vertical-align: top;\n",
       "    }\n",
       "\n",
       "    .dataframe thead th {\n",
       "        text-align: right;\n",
       "    }\n",
       "</style>\n",
       "<table border=\"1\" class=\"dataframe\">\n",
       "  <thead>\n",
       "    <tr style=\"text-align: right;\">\n",
       "      <th></th>\n",
       "      <th>Unnamed: 0</th>\n",
       "      <th>X53416</th>\n",
       "      <th>M83670</th>\n",
       "      <th>X90908</th>\n",
       "      <th>M97496</th>\n",
       "      <th>X90908.1</th>\n",
       "      <th>U37019</th>\n",
       "      <th>R48602</th>\n",
       "      <th>T96548</th>\n",
       "      <th>X64559</th>\n",
       "      <th>...</th>\n",
       "      <th>H87456</th>\n",
       "      <th>R64130</th>\n",
       "      <th>H11125.1</th>\n",
       "      <th>U22055</th>\n",
       "      <th>L22524</th>\n",
       "      <th>M13699.1</th>\n",
       "      <th>X54489</th>\n",
       "      <th>T55008</th>\n",
       "      <th>M10065.2</th>\n",
       "      <th>y</th>\n",
       "    </tr>\n",
       "  </thead>\n",
       "  <tbody>\n",
       "    <tr>\n",
       "      <th>0</th>\n",
       "      <td>0</td>\n",
       "      <td>70</td>\n",
       "      <td>-81</td>\n",
       "      <td>25</td>\n",
       "      <td>10</td>\n",
       "      <td>22</td>\n",
       "      <td>113</td>\n",
       "      <td>36</td>\n",
       "      <td>163</td>\n",
       "      <td>9</td>\n",
       "      <td>...</td>\n",
       "      <td>75</td>\n",
       "      <td>5</td>\n",
       "      <td>68</td>\n",
       "      <td>138</td>\n",
       "      <td>53</td>\n",
       "      <td>-4</td>\n",
       "      <td>123</td>\n",
       "      <td>2</td>\n",
       "      <td>19</td>\n",
       "      <td>tumor</td>\n",
       "    </tr>\n",
       "    <tr>\n",
       "      <th>1</th>\n",
       "      <td>1</td>\n",
       "      <td>108</td>\n",
       "      <td>-30</td>\n",
       "      <td>-7</td>\n",
       "      <td>60</td>\n",
       "      <td>0</td>\n",
       "      <td>24</td>\n",
       "      <td>8</td>\n",
       "      <td>113</td>\n",
       "      <td>-3</td>\n",
       "      <td>...</td>\n",
       "      <td>186</td>\n",
       "      <td>6</td>\n",
       "      <td>60</td>\n",
       "      <td>93</td>\n",
       "      <td>140</td>\n",
       "      <td>-3</td>\n",
       "      <td>271</td>\n",
       "      <td>-1</td>\n",
       "      <td>-51</td>\n",
       "      <td>tumor</td>\n",
       "    </tr>\n",
       "    <tr>\n",
       "      <th>2</th>\n",
       "      <td>2</td>\n",
       "      <td>75</td>\n",
       "      <td>-1</td>\n",
       "      <td>5</td>\n",
       "      <td>48</td>\n",
       "      <td>6</td>\n",
       "      <td>34</td>\n",
       "      <td>27</td>\n",
       "      <td>35</td>\n",
       "      <td>-1</td>\n",
       "      <td>...</td>\n",
       "      <td>186</td>\n",
       "      <td>225</td>\n",
       "      <td>94</td>\n",
       "      <td>62</td>\n",
       "      <td>39</td>\n",
       "      <td>-14</td>\n",
       "      <td>127</td>\n",
       "      <td>7</td>\n",
       "      <td>192</td>\n",
       "      <td>tumor</td>\n",
       "    </tr>\n",
       "    <tr>\n",
       "      <th>3</th>\n",
       "      <td>3</td>\n",
       "      <td>871</td>\n",
       "      <td>4</td>\n",
       "      <td>14</td>\n",
       "      <td>78</td>\n",
       "      <td>-6</td>\n",
       "      <td>85</td>\n",
       "      <td>65</td>\n",
       "      <td>227</td>\n",
       "      <td>19</td>\n",
       "      <td>...</td>\n",
       "      <td>77</td>\n",
       "      <td>6</td>\n",
       "      <td>78</td>\n",
       "      <td>30</td>\n",
       "      <td>87</td>\n",
       "      <td>-4</td>\n",
       "      <td>59</td>\n",
       "      <td>3</td>\n",
       "      <td>367</td>\n",
       "      <td>tumor</td>\n",
       "    </tr>\n",
       "    <tr>\n",
       "      <th>4</th>\n",
       "      <td>4</td>\n",
       "      <td>-92</td>\n",
       "      <td>-34</td>\n",
       "      <td>14</td>\n",
       "      <td>19</td>\n",
       "      <td>11</td>\n",
       "      <td>-6</td>\n",
       "      <td>27</td>\n",
       "      <td>-8</td>\n",
       "      <td>9</td>\n",
       "      <td>...</td>\n",
       "      <td>87</td>\n",
       "      <td>303</td>\n",
       "      <td>204</td>\n",
       "      <td>81</td>\n",
       "      <td>105</td>\n",
       "      <td>9</td>\n",
       "      <td>265</td>\n",
       "      <td>-2</td>\n",
       "      <td>126</td>\n",
       "      <td>tumor</td>\n",
       "    </tr>\n",
       "  </tbody>\n",
       "</table>\n",
       "<p>5 rows × 7466 columns</p>\n",
       "</div>"
      ],
      "text/plain": [
       "   Unnamed: 0  X53416  M83670  X90908  M97496  X90908.1  U37019  R48602  \\\n",
       "0           0      70     -81      25      10        22     113      36   \n",
       "1           1     108     -30      -7      60         0      24       8   \n",
       "2           2      75      -1       5      48         6      34      27   \n",
       "3           3     871       4      14      78        -6      85      65   \n",
       "4           4     -92     -34      14      19        11      -6      27   \n",
       "\n",
       "   T96548  X64559  ...  H87456  R64130  H11125.1  U22055  L22524  M13699.1  \\\n",
       "0     163       9  ...      75       5        68     138      53        -4   \n",
       "1     113      -3  ...     186       6        60      93     140        -3   \n",
       "2      35      -1  ...     186     225        94      62      39       -14   \n",
       "3     227      19  ...      77       6        78      30      87        -4   \n",
       "4      -8       9  ...      87     303       204      81     105         9   \n",
       "\n",
       "   X54489  T55008  M10065.2      y  \n",
       "0     123       2        19  tumor  \n",
       "1     271      -1       -51  tumor  \n",
       "2     127       7       192  tumor  \n",
       "3      59       3       367  tumor  \n",
       "4     265      -2       126  tumor  \n",
       "\n",
       "[5 rows x 7466 columns]"
      ]
     },
     "execution_count": 3,
     "metadata": {},
     "output_type": "execute_result"
    }
   ],
   "source": [
    "data.head()"
   ]
  },
  {
   "cell_type": "code",
   "execution_count": 4,
   "metadata": {},
   "outputs": [
    {
     "name": "stdout",
     "output_type": "stream",
     "text": [
      "<class 'pandas.core.frame.DataFrame'>\n",
      "RangeIndex: 36 entries, 0 to 35\n",
      "Columns: 7466 entries, Unnamed: 0 to y\n",
      "dtypes: int64(7465), object(1)\n",
      "memory usage: 2.1+ MB\n"
     ]
    }
   ],
   "source": [
    "data.info()"
   ]
  },
  {
   "cell_type": "code",
   "execution_count": 5,
   "metadata": {},
   "outputs": [
    {
     "name": "stdout",
     "output_type": "stream",
     "text": [
      "Unnamed: 0    0\n",
      "X53416        0\n",
      "M83670        0\n",
      "X90908        0\n",
      "M97496        0\n",
      "             ..\n",
      "M13699.1      0\n",
      "X54489        0\n",
      "T55008        0\n",
      "M10065.2      0\n",
      "y             0\n",
      "Length: 7466, dtype: int64\n"
     ]
    }
   ],
   "source": [
    "print(data.isna().sum())"
   ]
  },
  {
   "cell_type": "code",
   "execution_count": 6,
   "metadata": {},
   "outputs": [
    {
     "data": {
      "text/plain": [
       "Unnamed: 0     int64\n",
       "X53416         int64\n",
       "M83670         int64\n",
       "X90908         int64\n",
       "M97496         int64\n",
       "               ...  \n",
       "M13699.1       int64\n",
       "X54489         int64\n",
       "T55008         int64\n",
       "M10065.2       int64\n",
       "y             object\n",
       "Length: 7466, dtype: object"
      ]
     },
     "execution_count": 6,
     "metadata": {},
     "output_type": "execute_result"
    }
   ],
   "source": [
    "data.dtypes"
   ]
  },
  {
   "cell_type": "code",
   "execution_count": 7,
   "metadata": {},
   "outputs": [
    {
     "name": "stdout",
     "output_type": "stream",
     "text": [
      "[1 1 1 1 1 1 1 1 1 1 1 1 1 1 1 1 1 1 0 0 0 0 0 0 0 0 0 0 0 0 0 0 0 0 0 0]\n"
     ]
    }
   ],
   "source": [
    "le = LabelEncoder()\n",
    "nptarget = target.copy()\n",
    "nptarget = le.fit_transform(nptarget)\n",
    "print(nptarget)"
   ]
  },
  {
   "cell_type": "code",
   "execution_count": 8,
   "metadata": {},
   "outputs": [
    {
     "data": {
      "text/html": [
       "<div>\n",
       "<style scoped>\n",
       "    .dataframe tbody tr th:only-of-type {\n",
       "        vertical-align: middle;\n",
       "    }\n",
       "\n",
       "    .dataframe tbody tr th {\n",
       "        vertical-align: top;\n",
       "    }\n",
       "\n",
       "    .dataframe thead th {\n",
       "        text-align: right;\n",
       "    }\n",
       "</style>\n",
       "<table border=\"1\" class=\"dataframe\">\n",
       "  <thead>\n",
       "    <tr style=\"text-align: right;\">\n",
       "      <th></th>\n",
       "      <th>Unnamed: 0</th>\n",
       "      <th>X53416</th>\n",
       "      <th>M83670</th>\n",
       "      <th>X90908</th>\n",
       "      <th>M97496</th>\n",
       "      <th>X90908.1</th>\n",
       "      <th>U37019</th>\n",
       "      <th>R48602</th>\n",
       "      <th>T96548</th>\n",
       "      <th>X64559</th>\n",
       "      <th>...</th>\n",
       "      <th>H87456</th>\n",
       "      <th>R64130</th>\n",
       "      <th>H11125.1</th>\n",
       "      <th>U22055</th>\n",
       "      <th>L22524</th>\n",
       "      <th>M13699.1</th>\n",
       "      <th>X54489</th>\n",
       "      <th>T55008</th>\n",
       "      <th>M10065.2</th>\n",
       "      <th>y</th>\n",
       "    </tr>\n",
       "  </thead>\n",
       "  <tbody>\n",
       "    <tr>\n",
       "      <th>0</th>\n",
       "      <td>0</td>\n",
       "      <td>70</td>\n",
       "      <td>-81</td>\n",
       "      <td>25</td>\n",
       "      <td>10</td>\n",
       "      <td>22</td>\n",
       "      <td>113</td>\n",
       "      <td>36</td>\n",
       "      <td>163</td>\n",
       "      <td>9</td>\n",
       "      <td>...</td>\n",
       "      <td>75</td>\n",
       "      <td>5</td>\n",
       "      <td>68</td>\n",
       "      <td>138</td>\n",
       "      <td>53</td>\n",
       "      <td>-4</td>\n",
       "      <td>123</td>\n",
       "      <td>2</td>\n",
       "      <td>19</td>\n",
       "      <td>tumor</td>\n",
       "    </tr>\n",
       "    <tr>\n",
       "      <th>1</th>\n",
       "      <td>1</td>\n",
       "      <td>108</td>\n",
       "      <td>-30</td>\n",
       "      <td>-7</td>\n",
       "      <td>60</td>\n",
       "      <td>0</td>\n",
       "      <td>24</td>\n",
       "      <td>8</td>\n",
       "      <td>113</td>\n",
       "      <td>-3</td>\n",
       "      <td>...</td>\n",
       "      <td>186</td>\n",
       "      <td>6</td>\n",
       "      <td>60</td>\n",
       "      <td>93</td>\n",
       "      <td>140</td>\n",
       "      <td>-3</td>\n",
       "      <td>271</td>\n",
       "      <td>-1</td>\n",
       "      <td>-51</td>\n",
       "      <td>tumor</td>\n",
       "    </tr>\n",
       "    <tr>\n",
       "      <th>2</th>\n",
       "      <td>2</td>\n",
       "      <td>75</td>\n",
       "      <td>-1</td>\n",
       "      <td>5</td>\n",
       "      <td>48</td>\n",
       "      <td>6</td>\n",
       "      <td>34</td>\n",
       "      <td>27</td>\n",
       "      <td>35</td>\n",
       "      <td>-1</td>\n",
       "      <td>...</td>\n",
       "      <td>186</td>\n",
       "      <td>225</td>\n",
       "      <td>94</td>\n",
       "      <td>62</td>\n",
       "      <td>39</td>\n",
       "      <td>-14</td>\n",
       "      <td>127</td>\n",
       "      <td>7</td>\n",
       "      <td>192</td>\n",
       "      <td>tumor</td>\n",
       "    </tr>\n",
       "    <tr>\n",
       "      <th>3</th>\n",
       "      <td>3</td>\n",
       "      <td>871</td>\n",
       "      <td>4</td>\n",
       "      <td>14</td>\n",
       "      <td>78</td>\n",
       "      <td>-6</td>\n",
       "      <td>85</td>\n",
       "      <td>65</td>\n",
       "      <td>227</td>\n",
       "      <td>19</td>\n",
       "      <td>...</td>\n",
       "      <td>77</td>\n",
       "      <td>6</td>\n",
       "      <td>78</td>\n",
       "      <td>30</td>\n",
       "      <td>87</td>\n",
       "      <td>-4</td>\n",
       "      <td>59</td>\n",
       "      <td>3</td>\n",
       "      <td>367</td>\n",
       "      <td>tumor</td>\n",
       "    </tr>\n",
       "    <tr>\n",
       "      <th>4</th>\n",
       "      <td>4</td>\n",
       "      <td>-92</td>\n",
       "      <td>-34</td>\n",
       "      <td>14</td>\n",
       "      <td>19</td>\n",
       "      <td>11</td>\n",
       "      <td>-6</td>\n",
       "      <td>27</td>\n",
       "      <td>-8</td>\n",
       "      <td>9</td>\n",
       "      <td>...</td>\n",
       "      <td>87</td>\n",
       "      <td>303</td>\n",
       "      <td>204</td>\n",
       "      <td>81</td>\n",
       "      <td>105</td>\n",
       "      <td>9</td>\n",
       "      <td>265</td>\n",
       "      <td>-2</td>\n",
       "      <td>126</td>\n",
       "      <td>tumor</td>\n",
       "    </tr>\n",
       "  </tbody>\n",
       "</table>\n",
       "<p>5 rows × 7466 columns</p>\n",
       "</div>"
      ],
      "text/plain": [
       "   Unnamed: 0  X53416  M83670  X90908  M97496  X90908.1  U37019  R48602  \\\n",
       "0           0      70     -81      25      10        22     113      36   \n",
       "1           1     108     -30      -7      60         0      24       8   \n",
       "2           2      75      -1       5      48         6      34      27   \n",
       "3           3     871       4      14      78        -6      85      65   \n",
       "4           4     -92     -34      14      19        11      -6      27   \n",
       "\n",
       "   T96548  X64559  ...  H87456  R64130  H11125.1  U22055  L22524  M13699.1  \\\n",
       "0     163       9  ...      75       5        68     138      53        -4   \n",
       "1     113      -3  ...     186       6        60      93     140        -3   \n",
       "2      35      -1  ...     186     225        94      62      39       -14   \n",
       "3     227      19  ...      77       6        78      30      87        -4   \n",
       "4      -8       9  ...      87     303       204      81     105         9   \n",
       "\n",
       "   X54489  T55008  M10065.2      y  \n",
       "0     123       2        19  tumor  \n",
       "1     271      -1       -51  tumor  \n",
       "2     127       7       192  tumor  \n",
       "3      59       3       367  tumor  \n",
       "4     265      -2       126  tumor  \n",
       "\n",
       "[5 rows x 7466 columns]"
      ]
     },
     "execution_count": 8,
     "metadata": {},
     "output_type": "execute_result"
    }
   ],
   "source": [
    "data.head()"
   ]
  },
  {
   "cell_type": "code",
   "execution_count": 9,
   "metadata": {},
   "outputs": [],
   "source": [
    "data = data.drop(columns=['y'])"
   ]
  },
  {
   "cell_type": "markdown",
   "metadata": {},
   "source": [
    "Data vis"
   ]
  },
  {
   "cell_type": "code",
   "execution_count": 15,
   "metadata": {},
   "outputs": [
    {
     "data": {
      "text/html": [
       "<div>\n",
       "<style scoped>\n",
       "    .dataframe tbody tr th:only-of-type {\n",
       "        vertical-align: middle;\n",
       "    }\n",
       "\n",
       "    .dataframe tbody tr th {\n",
       "        vertical-align: top;\n",
       "    }\n",
       "\n",
       "    .dataframe thead th {\n",
       "        text-align: right;\n",
       "    }\n",
       "</style>\n",
       "<table border=\"1\" class=\"dataframe\">\n",
       "  <thead>\n",
       "    <tr style=\"text-align: right;\">\n",
       "      <th></th>\n",
       "      <th>P1</th>\n",
       "      <th>P2</th>\n",
       "    </tr>\n",
       "  </thead>\n",
       "  <tbody>\n",
       "    <tr>\n",
       "      <th>0</th>\n",
       "      <td>2040.945947</td>\n",
       "      <td>-4084.957492</td>\n",
       "    </tr>\n",
       "    <tr>\n",
       "      <th>1</th>\n",
       "      <td>-990.060292</td>\n",
       "      <td>-2437.466647</td>\n",
       "    </tr>\n",
       "    <tr>\n",
       "      <th>2</th>\n",
       "      <td>-1350.050264</td>\n",
       "      <td>-3809.167600</td>\n",
       "    </tr>\n",
       "    <tr>\n",
       "      <th>3</th>\n",
       "      <td>-408.499576</td>\n",
       "      <td>-2760.850117</td>\n",
       "    </tr>\n",
       "    <tr>\n",
       "      <th>4</th>\n",
       "      <td>-1660.630452</td>\n",
       "      <td>-3415.964990</td>\n",
       "    </tr>\n",
       "  </tbody>\n",
       "</table>\n",
       "</div>"
      ],
      "text/plain": [
       "            P1           P2\n",
       "0  2040.945947 -4084.957492\n",
       "1  -990.060292 -2437.466647\n",
       "2 -1350.050264 -3809.167600\n",
       "3  -408.499576 -2760.850117\n",
       "4 -1660.630452 -3415.964990"
      ]
     },
     "execution_count": 15,
     "metadata": {},
     "output_type": "execute_result"
    }
   ],
   "source": [
    "dataCop = data.copy()\n",
    "pca = PCA(n_components = 2)\n",
    "pC = pca.fit_transform(dataCop)\n",
    "initial = pd.DataFrame(pC, columns = ['P1','P2']) #P1 and P2 stand for the first and second components found from PCA\n",
    "initial.head()"
   ]
  },
  {
   "cell_type": "code",
   "execution_count": 17,
   "metadata": {},
   "outputs": [],
   "source": [
    "targetCol = pd.DataFrame(nptarget,columns=['target'])\n",
    "targetCol['target'] = targetCol['target'].replace([1],'tumor')\n",
    "targetCol['target'] = targetCol['target'].replace([0],'normal')\n",
    "pca_df = pd.concat([initial,targetCol],axis=1)"
   ]
  },
  {
   "cell_type": "code",
   "execution_count": 18,
   "metadata": {},
   "outputs": [
    {
     "data": {
      "text/plain": [
       "<matplotlib.legend.Legend at 0x1f34058e220>"
      ]
     },
     "execution_count": 18,
     "metadata": {},
     "output_type": "execute_result"
    },
    {
     "data": {
      "image/png": "[encoded data removed]",
      "text/plain": [
       "<Figure size 432x288 with 1 Axes>"
      ]
     },
     "metadata": {
      "needs_background": "light"
     },
     "output_type": "display_data"
    }
   ],
   "source": [
    "targets = ['tumor','normal']\n",
    "colors = ['r','b']\n",
    "for target, color in zip(targets,colors):\n",
    "    indicesToKeep = targetCol['target'] == target\n",
    "    plt.scatter(pca_df.loc[indicesToKeep, 'P1']\n",
    "               , pca_df.loc[indicesToKeep, 'P2'], c = color, s = 5)\n",
    "\n",
    "plt.legend(targets,prop={'size': 10})"
   ]
  },
  {
   "cell_type": "code",
   "execution_count": 10,
   "metadata": {},
   "outputs": [
    {
     "name": "stdout",
     "output_type": "stream",
     "text": [
      "[[   0   70  -81 ...  123    2   19]\n",
      " [   1  108  -30 ...  271   -1  -51]\n",
      " [   2   75   -1 ...  127    7  192]\n",
      " ...\n",
      " [  33 1282  116 ...    7    3  -69]\n",
      " [  34   68  718 ...   21   22 -214]\n",
      " [  35  928  332 ...   32   -5   72]]\n"
     ]
    }
   ],
   "source": [
    "datanp = data.to_numpy()\n",
    "print(datanp)"
   ]
  },
  {
   "cell_type": "code",
   "execution_count": 11,
   "metadata": {},
   "outputs": [
    {
     "name": "stdout",
     "output_type": "stream",
     "text": [
      "36 7465\n"
     ]
    }
   ],
   "source": [
    "X,y = datanp,nptarget\n",
    "\n",
    "n_samples,n_features = X.shape\n",
    "print(n_samples,n_features)\n",
    "\n",
    "X_train, X_test, y_train, y_test = train_test_split(X,y,test_size = 0.2,random_state=1234)\n",
    "\n",
    "#feature scaling\n",
    "sc = StandardScaler()\n",
    "\n",
    "X_train = sc.fit_transform(X_train)\n",
    "X_test = sc.transform(X_test)\n",
    "\n",
    "X_train = torch.from_numpy(X_train.astype(np.float32))\n",
    "X_test = torch.from_numpy(X_test.astype(np.float32))\n",
    "y_train = torch.from_numpy(y_train.astype(np.float32))\n",
    "y_test = torch.from_numpy(y_test.astype(np.float32))\n",
    "\n",
    "\n",
    "\n",
    "y_train = y_train.view(y_train.shape[0],1)\n",
    "y_test = y_test.view(y_test.shape[0],1)"
   ]
  },
  {
   "cell_type": "markdown",
   "metadata": {},
   "source": [
    "Model"
   ]
  },
  {
   "cell_type": "code",
   "execution_count": 19,
   "metadata": {},
   "outputs": [],
   "source": [
    "class LogisticRegression(nn.Module):\n",
    "    def __init__(self,n_input_features):\n",
    "        super(LogisticRegression,self).__init__()\n",
    "        self.linear= nn.Linear(n_input_features,1)\n",
    "\n",
    "    def forward(self,x):\n",
    "        y_predicted = torch.sigmoid(self.linear(x))\n",
    "        return y_predicted\n",
    "        \n",
    "model = LogisticRegression(n_features)"
   ]
  },
  {
   "cell_type": "code",
   "execution_count": 20,
   "metadata": {},
   "outputs": [],
   "source": [
    "learning_rate = 0.01\n",
    "criterion = nn.BCELoss() #binary cross entropy loss\n",
    "optimizer = torch.optim.SGD(model.parameters(),lr=learning_rate)"
   ]
  },
  {
   "cell_type": "markdown",
   "metadata": {},
   "source": [
    "Training"
   ]
  },
  {
   "cell_type": "code",
   "execution_count": 21,
   "metadata": {},
   "outputs": [
    {
     "name": "stdout",
     "output_type": "stream",
     "text": [
      "epoch: 20, loss = 0.0080\n",
      "epoch: 40, loss = 0.0043\n",
      "epoch: 60, loss = 0.0029\n",
      "epoch: 80, loss = 0.0022\n",
      "epoch: 100, loss = 0.0018\n"
     ]
    }
   ],
   "source": [
    "num_epochs = 100\n",
    "\n",
    "for epoch in range(num_epochs):\n",
    "    #forward pass + loss\n",
    "    y_pred = model(X_train)\n",
    "    loss = criterion(y_pred,y_train)\n",
    "    #backprop\n",
    "    loss.backward()\n",
    "    #update weights\n",
    "    optimizer.step()\n",
    "\n",
    "    #zero gradients\n",
    "    optimizer.zero_grad()\n",
    "\n",
    "    #print info\n",
    "    if (epoch+1) % 20 == 0:\n",
    "        print(f'epoch: {epoch+1}, loss = {loss.item():.4f}')"
   ]
  },
  {
   "cell_type": "code",
   "execution_count": 23,
   "metadata": {},
   "outputs": [
    {
     "name": "stdout",
     "output_type": "stream",
     "text": [
      "accuracy = 1.00000000000000000000\n"
     ]
    }
   ],
   "source": [
    "#evaluate model\n",
    "\n",
    "with torch.no_grad(): #without computational graph\n",
    "    y_predicted = model(X_test)\n",
    "    y_predicted_cls = y_predicted.round()\n",
    "    acc = y_predicted_cls.eq(y_test).sum()/ float(y_test.size(dim=0))\n",
    "    print(f'accuracy = {acc:.20f}')"
   ]
  },
  {
   "cell_type": "markdown",
   "metadata": {},
   "source": [
    "Accuracy is 100%"
   ]
  }
 ],
 "metadata": {
  "interpreter": {
   "hash": "655b5cbb66de568a95b8b88d1f13b805b01f6cb2ccb56c0e883fa3aeed40b47b"
  },
  "kernelspec": {
   "display_name": "Python 3.8.3 64-bit ('base': conda)",
   "language": "python",
   "name": "python3"
  },
  "language_info": {
   "codemirror_mode": {
    "name": "ipython",
    "version": 3
   },
   "file_extension": ".py",
   "mimetype": "text/x-python",
   "name": "python",
   "nbconvert_exporter": "python",
   "pygments_lexer": "ipython3",
   "version": "3.8.3"
  },
  "orig_nbformat": 4
 },
 "nbformat": 4,
 "nbformat_minor": 2
}
